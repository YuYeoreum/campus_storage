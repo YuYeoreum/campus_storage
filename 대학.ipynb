{
 "cells": [
  {
   "cell_type": "code",
   "execution_count": 2,
   "metadata": {
    "collapsed": true,
    "ExecuteTime": {
     "end_time": "2023-06-11T12:09:02.413595300Z",
     "start_time": "2023-06-11T12:08:59.049289900Z"
    }
   },
   "outputs": [
    {
     "name": "stdout",
     "output_type": "stream",
     "text": [
      "거스름돈은 6600원 입니다.\n"
     ]
    }
   ],
   "source": [
    "price = 340\n",
    "unit = input(\"마스크 개수를 입력하세요: \")\n",
    "pay = input(\"지불한 금액을 입력하세요: \")\n",
    "# print(\"거스름돈은\", int(pay) - price * int(unit), \"원 입니다.\")\n",
    "print(f\"거스름돈은 {int(pay) - price * int(unit)}원 입니다.\")"
   ]
  },
  {
   "cell_type": "code",
   "execution_count": 3,
   "outputs": [
    {
     "name": "stdout",
     "output_type": "stream",
     "text": [
      "총점은 280점이고, 평균은 93.33333333333333점 입니다.\n"
     ]
    }
   ],
   "source": [
    "korean = input(\"국어 점수를 입력하세요: \")\n",
    "english = input(\"영어 점수를 입력하세요: \")\n",
    "math = input(\"수학 점수를 입력하세요: \")\n",
    "\n",
    "sum = int(korean) + int(english) + int(math)\n",
    "avg = sum / 3\n",
    "print(f\"총점은 {sum}점이고, 평균은 {avg}점 입니다.\")"
   ],
   "metadata": {
    "collapsed": false,
    "ExecuteTime": {
     "end_time": "2023-06-11T12:09:49.147787Z",
     "start_time": "2023-06-11T12:09:45.993032600Z"
    }
   }
  },
  {
   "cell_type": "code",
   "execution_count": 4,
   "outputs": [
    {
     "name": "stdout",
     "output_type": "stream",
     "text": [
      "100cm는 39.0inch 입니다.\n"
     ]
    }
   ],
   "source": [
    "cm = input(\"길이(cm)를 입력하세요: \")\n",
    "inch = float(cm) * 0.39\n",
    "print(f\"{cm}cm는 {inch}inch 입니다.\")"
   ],
   "metadata": {
    "collapsed": false,
    "ExecuteTime": {
     "end_time": "2023-06-11T12:12:32.903489500Z",
     "start_time": "2023-06-11T12:12:31.615032900Z"
    }
   }
  },
  {
   "cell_type": "code",
   "execution_count": 6,
   "outputs": [
    {
     "name": "stdout",
     "output_type": "stream",
     "text": [
      "4!은 24입니다.\n"
     ]
    }
   ],
   "source": [
    "integer = int(input(\"양의 정수를 입력하세요: \"))\n",
    "factorial = 1\n",
    "for i in range(1, integer+1):\n",
    "    factorial *= i\n",
    "print(f\"{integer}!은 {factorial}입니다.\")"
   ],
   "metadata": {
    "collapsed": false,
    "ExecuteTime": {
     "end_time": "2023-06-11T12:14:14.276893600Z",
     "start_time": "2023-06-11T12:14:11.221169400Z"
    }
   }
  },
  {
   "cell_type": "code",
   "execution_count": 16,
   "outputs": [
    {
     "name": "stdout",
     "output_type": "stream",
     "text": [
      "1\n",
      "150\n"
     ]
    }
   ],
   "source": [
    "x, y = 0, 0\n",
    "small = 0\n",
    "while True:\n",
    "    x += 2\n",
    "    y += 3\n",
    "    if x*y >= 150:\n",
    "        print(x*y)\n",
    "        break"
   ],
   "metadata": {
    "collapsed": false,
    "ExecuteTime": {
     "end_time": "2023-06-11T12:22:05.716056500Z",
     "start_time": "2023-06-11T12:22:05.691088200Z"
    }
   }
  },
  {
   "cell_type": "code",
   "execution_count": 17,
   "outputs": [
    {
     "name": "stdout",
     "output_type": "stream",
     "text": [
      "index :  0 , item :  농구\n",
      "index :  1 , item :  축구\n",
      "index :  2 , item :  야구\n",
      "index :  3 , item :  탁구\n",
      "index :  4 , item :  골프\n"
     ]
    }
   ],
   "source": [
    "sports = ['농구', '축구', '야구', '탁구', '골프']\n",
    "for index, item in enumerate(sports):\n",
    "    print('index : ', index, ', item : ', item)"
   ],
   "metadata": {
    "collapsed": false,
    "ExecuteTime": {
     "end_time": "2023-06-11T12:25:23.642883500Z",
     "start_time": "2023-06-11T12:25:23.596338300Z"
    }
   }
  },
  {
   "cell_type": "code",
   "execution_count": 21,
   "outputs": [
    {
     "name": "stdout",
     "output_type": "stream",
     "text": [
      "[1, 2, 4, 5, 6]\n",
      "[1, 2, 3, 4, 5, 6]\n"
     ]
    }
   ],
   "source": [
    "numbers = [1, 2, 4, 5, 6]\n",
    "print(numbers)\n",
    "\n",
    "numbers.insert(2, 3)\n",
    "print(numbers)"
   ],
   "metadata": {
    "collapsed": false,
    "ExecuteTime": {
     "end_time": "2023-06-11T12:27:21.664294500Z",
     "start_time": "2023-06-11T12:27:21.643300300Z"
    }
   }
  },
  {
   "cell_type": "code",
   "execution_count": 22,
   "outputs": [
    {
     "name": "stdout",
     "output_type": "stream",
     "text": [
      "{'python': '5학점', 'C/C++': '5학점', 'HTML5': '5학점', 'Java': '5학점', 'Javascript': '5학점'}\n"
     ]
    }
   ],
   "source": [
    "classes = {'python' : '5학점',\n",
    "           'C/C++' : '5학점',\n",
    "           'HTML5' : '3학점',\n",
    "           'Java' : '5학점',\n",
    "           'Javascript' : '3학점'\n",
    "           }\n",
    "for key, value in classes.items():\n",
    "    if value == '3학점':\n",
    "        classes[key] = '5학점'\n",
    "print(classes)"
   ],
   "metadata": {
    "collapsed": false,
    "ExecuteTime": {
     "end_time": "2023-06-11T12:29:21.882057200Z",
     "start_time": "2023-06-11T12:29:21.864061800Z"
    }
   }
  },
  {
   "cell_type": "code",
   "execution_count": 26,
   "outputs": [
    {
     "name": "stdout",
     "output_type": "stream",
     "text": [
      "{'회원번호': '2019-052001', '이름': '박찬호', '나이': '25', '성별': 'M', '연락처': '010-1234-5678', '이용 서비스': ['헬스', '수영'], '경로우대 할인율(%)': '0'}\n",
      "{'회원번호': '2019-052004', '이름': '박용택', '나이': '65', '성별': 'M', '연락처': '010-9012-3456', '이용 서비스': ['수영'], '경로우대 할인율(%)': '50'}\n",
      "{'회원번호': '2019-052003', '이름': '박세리', '나이': '70', '성별': 'W', '연락처': '010-7890-1234', '이용 서비스': ['아쿠아로빅'], '경로우대 할인율(%)': '50'}\n"
     ]
    }
   ],
   "source": [
    "userinfo = [\n",
    "    {'회원번호' : '2019-052001', '이름' : '박찬호', '나이' : '25', '성별' : 'M', '연락처' : '010-1234-5678', '이용 서비스' : ['헬스', '수영'], '경로우대 할인율(%)' : '0'},\n",
    "    {'회원번호' : '2019-052004', '이름' : '박용택', '나이' : '65', '성별' : 'M', '연락처' : '010-9012-3456', '이용 서비스' : ['수영'], '경로우대 할인율(%)' : '50'},\n",
    "    {'회원번호' : '2019-052003', '이름' : '박세리', '나이' : '70', '성별' : 'W', '연락처' : '010-7890-1234', '이용 서비스' : ['아쿠아로빅'], '경로우대 할인율(%)' : '50'}\n",
    "]\n",
    "for i in userinfo:\n",
    "    print(i)"
   ],
   "metadata": {
    "collapsed": false,
    "ExecuteTime": {
     "end_time": "2023-06-11T12:36:13.221373400Z",
     "start_time": "2023-06-11T12:36:13.204364400Z"
    }
   }
  }
 ],
 "metadata": {
  "kernelspec": {
   "display_name": "Python 3",
   "language": "python",
   "name": "python3"
  },
  "language_info": {
   "codemirror_mode": {
    "name": "ipython",
    "version": 2
   },
   "file_extension": ".py",
   "mimetype": "text/x-python",
   "name": "python",
   "nbconvert_exporter": "python",
   "pygments_lexer": "ipython2",
   "version": "2.7.6"
  }
 },
 "nbformat": 4,
 "nbformat_minor": 0
}
